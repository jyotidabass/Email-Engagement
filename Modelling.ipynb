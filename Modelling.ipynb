{
  "nbformat": 4,
  "nbformat_minor": 0,
  "metadata": {
    "colab": {
      "provenance": [],
      "include_colab_link": true
    },
    "kernelspec": {
      "name": "python3",
      "display_name": "Python 3"
    },
    "language_info": {
      "name": "python"
    }
  },
  "cells": [
    {
      "cell_type": "markdown",
      "metadata": {
        "id": "view-in-github",
        "colab_type": "text"
      },
      "source": [
        "<a href=\"https://colab.research.google.com/github/jyotidabass/Email-Engagement/blob/main/Modelling.ipynb\" target=\"_parent\"><img src=\"https://colab.research.google.com/assets/colab-badge.svg\" alt=\"Open In Colab\"/></a>"
      ]
    },
    {
      "cell_type": "markdown",
      "source": [
        "# **Email Engagement Prediction**"
      ],
      "metadata": {
        "id": "bbDZJIhxO5rd"
      }
    },
    {
      "cell_type": "markdown",
      "source": [
        "## **Introduction:**\n",
        "\n",
        "In this notebook, we aim to build a machine learning model to predict the likelihood of email engagement, specifically focusing on whether the email will be 'clicked' or not. We will explore different ML algorithms to achieve the best possible accuracy."
      ],
      "metadata": {
        "id": "q-_fMAH8PCnE"
      }
    },
    {
      "cell_type": "markdown",
      "source": [
        "## Table of Contents:\n",
        "\n",
        "1. [**Loading and Preprocessing Data**](#loading-and-preprocessing-data)\n",
        "2. [**Feature Selection and Splitting**](#feature-selection-and-splitting)\n",
        "3. [**Model Training and Evaluation**](#model-training-and-evaluation)\n",
        "4. [**Conclusion**](#conclusion)\n"
      ],
      "metadata": {
        "id": "gEPnwpvvPOy4"
      }
    },
    {
      "cell_type": "markdown",
      "source": [
        "## 1. Loading and Preprocessing Data <a name=\"loading-and-preprocessing-data\"></a>\n"
      ],
      "metadata": {
        "id": "N-E4-gvIPT4K"
      }
    },
    {
      "cell_type": "code",
      "source": [
        "pip install --upgrade scikit-learn"
      ],
      "metadata": {
        "colab": {
          "base_uri": "https://localhost:8080/"
        },
        "id": "55rnQ7SZZLA6",
        "outputId": "8f99d922-4c99-4ac2-f090-7a0b01a136c1"
      },
      "execution_count": 46,
      "outputs": [
        {
          "output_type": "stream",
          "name": "stdout",
          "text": [
            "Requirement already satisfied: scikit-learn in /usr/local/lib/python3.10/dist-packages (1.3.2)\n",
            "Requirement already satisfied: numpy<2.0,>=1.17.3 in /usr/local/lib/python3.10/dist-packages (from scikit-learn) (1.23.5)\n",
            "Requirement already satisfied: scipy>=1.5.0 in /usr/local/lib/python3.10/dist-packages (from scikit-learn) (1.11.4)\n",
            "Requirement already satisfied: joblib>=1.1.1 in /usr/local/lib/python3.10/dist-packages (from scikit-learn) (1.3.2)\n",
            "Requirement already satisfied: threadpoolctl>=2.0.0 in /usr/local/lib/python3.10/dist-packages (from scikit-learn) (3.2.0)\n"
          ]
        }
      ]
    },
    {
      "cell_type": "code",
      "execution_count": 47,
      "metadata": {
        "id": "y2pMaDB_JTDD"
      },
      "outputs": [],
      "source": [
        "# Import necessary libraries\n",
        "import pandas as pd\n",
        "from sklearn.model_selection import train_test_split\n",
        "from sklearn.ensemble import RandomForestClassifier\n",
        "from sklearn.svm import SVC\n",
        "from sklearn.linear_model import LogisticRegression\n",
        "from sklearn.metrics import accuracy_score, classification_report, confusion_matrix\n",
        "from sklearn.preprocessing import StandardScaler\n",
        "from sklearn.pipeline import Pipeline\n",
        "import matplotlib.pyplot as plt\n",
        "import seaborn as sns\n",
        "from sklearn.metrics import confusion_matrix\n",
        "from sklearn.metrics._plot.confusion_matrix import ConfusionMatrixDisplay"
      ]
    },
    {
      "cell_type": "markdown",
      "source": [
        "## 2. Feature Selection and Splitting <a name=\"feature-selection-and-splitting\"></a>"
      ],
      "metadata": {
        "id": "sdL4JS4qPaXz"
      }
    },
    {
      "cell_type": "code",
      "source": [
        "# Function to split the dataset into features and target variable\n",
        "def split_features_target(df, target_column, feature_columns):\n",
        "    X = df[feature_columns]  # Features\n",
        "    y = df[target_column]  # Target variable\n",
        "    return X, y\n",
        "\n",
        "# Function to split the dataset into train and test sets\n",
        "def split_train_test(X, y, test_size=0.2, random_state=42):\n",
        "    X_train, X_test, y_train, y_test = train_test_split(X, y, test_size=test_size, random_state=random_state)\n",
        "    return X_train, X_test, y_train, y_test"
      ],
      "metadata": {
        "id": "_R8uZgQMPi-5"
      },
      "execution_count": 48,
      "outputs": []
    },
    {
      "cell_type": "markdown",
      "source": [
        "## 3. Model Training and Evaluation <a name=\"model-training-and-evaluation\"></a>"
      ],
      "metadata": {
        "id": "PNRFtMr6Pljw"
      }
    },
    {
      "cell_type": "code",
      "source": [
        "# Function to create and train the machine learning model\n",
        "def train_model1(X_train, y_train):\n",
        "    model = Pipeline([\n",
        "        ('scaler', StandardScaler()),  # Standardize features\n",
        "        ('classifier', RandomForestClassifier(random_state=42))  # RandomForestClassifier\n",
        "    ])\n",
        "    model.fit(X_train, y_train)\n",
        "    return model\n",
        "\n",
        "# Function to evaluate the model on the test set\n",
        "def evaluate_model(model, X_test, y_test):\n",
        "    y_pred = model.predict(X_test)\n",
        "    accuracy = accuracy_score(y_test, y_pred)\n",
        "    classification_rep = classification_report(y_test, y_pred)\n",
        "    confusion_mat = confusion_matrix(y_test, y_pred)\n",
        "    return accuracy, classification_rep, confusion_mat"
      ],
      "metadata": {
        "id": "rSxwCliGKJM5"
      },
      "execution_count": 49,
      "outputs": []
    },
    {
      "cell_type": "code",
      "source": [
        "# Load and preprocess data\n",
        "file_path = '/content/email_data.csv'\n",
        "# Function to load and preprocess the dataset\n",
        "def load_and_preprocess_data(file_path):\n",
        "    df = pd.read_csv(file_path)\n",
        "    # Add any additional preprocessing steps as needed\n",
        "    return df"
      ],
      "metadata": {
        "id": "7p2T5slhLX14"
      },
      "execution_count": 50,
      "outputs": []
    },
    {
      "cell_type": "code",
      "source": [
        "df = load_and_preprocess_data(file_path)\n",
        "df"
      ],
      "metadata": {
        "colab": {
          "base_uri": "https://localhost:8080/",
          "height": 840
        },
        "id": "b0SsHIcYWKDP",
        "outputId": "61119dc3-c6ba-43db-e573-ad9778a22672"
      },
      "execution_count": 51,
      "outputs": [
        {
          "output_type": "execute_result",
          "data": {
            "text/plain": [
              "    Unnamed: 0                                            subject  \\\n",
              "0            0  🚀 Propel Your Marketing ROI with Advanced Anal...   \n",
              "1            1  Data is Your Superpower 📊 Unlock Insights with Us   \n",
              "2            2  Turn Marketing Data Into Decisions 🧐 Let's Exp...   \n",
              "3            3  Marketing Success is a Click Away - Let's Chat...   \n",
              "4            4  🚀 Boost Your Brand's Visibility with Proven Ma...   \n",
              "..         ...                                                ...   \n",
              "76          76       Can We Help Enhance Your Marketing Strategy?   \n",
              "77          77                      Boost Your Brand Visibility 🚀   \n",
              "78          78    🔍 Outpace Competitors with Insightful Analytics   \n",
              "79          79                         Tailored Analytics for You   \n",
              "80          80          Let's Make Data-Driven Decisions Together   \n",
              "\n",
              "                                                 body opened  \\\n",
              "0   Hey [Recipient's Name],\\n\\nReady to see your m...  False   \n",
              "1   Hi [Recipient's Name],\\n\\nI'm reaching out aga...   True   \n",
              "2   Greetings [Recipient's Name],\\n\\nWe haven't co...  False   \n",
              "3   Hello [Recipient's Name],\\n\\nIt's clear that y...   True   \n",
              "4   Hi [Recipient's Name],\\n\\nIn the digital age, ...  False   \n",
              "..                                                ...    ...   \n",
              "76  Hi [Recipient's Name],\\n\\nI'll keep this brief...   True   \n",
              "77  Hello [Recipient's Name],\\n\\nWant to skyrocket...   True   \n",
              "78  Hi [Recipient's Name],\\n\\nI noticed you're nav...   True   \n",
              "79  Hey [Recipient's Name],\\n\\nYour brand deserves...  False   \n",
              "80  Dear [Recipient's Name],\\n\\nI can't help but n...   True   \n",
              "\n",
              "   meeting link clicked responded meeting_link_clicked  \n",
              "0                 False     False                  NaN  \n",
              "1                 False     False                  NaN  \n",
              "2                 False     False                  NaN  \n",
              "3                  True     False                  NaN  \n",
              "4                 False     False                  NaN  \n",
              "..                  ...       ...                  ...  \n",
              "76                 True     False                  NaN  \n",
              "77                False     False                  NaN  \n",
              "78                False     False                  NaN  \n",
              "79                False     False                  NaN  \n",
              "80                 True     False                  NaN  \n",
              "\n",
              "[81 rows x 7 columns]"
            ],
            "text/html": [
              "\n",
              "  <div id=\"df-122cb208-cbe5-4143-90e6-e81c0d22c87d\" class=\"colab-df-container\">\n",
              "    <div>\n",
              "<style scoped>\n",
              "    .dataframe tbody tr th:only-of-type {\n",
              "        vertical-align: middle;\n",
              "    }\n",
              "\n",
              "    .dataframe tbody tr th {\n",
              "        vertical-align: top;\n",
              "    }\n",
              "\n",
              "    .dataframe thead th {\n",
              "        text-align: right;\n",
              "    }\n",
              "</style>\n",
              "<table border=\"1\" class=\"dataframe\">\n",
              "  <thead>\n",
              "    <tr style=\"text-align: right;\">\n",
              "      <th></th>\n",
              "      <th>Unnamed: 0</th>\n",
              "      <th>subject</th>\n",
              "      <th>body</th>\n",
              "      <th>opened</th>\n",
              "      <th>meeting link clicked</th>\n",
              "      <th>responded</th>\n",
              "      <th>meeting_link_clicked</th>\n",
              "    </tr>\n",
              "  </thead>\n",
              "  <tbody>\n",
              "    <tr>\n",
              "      <th>0</th>\n",
              "      <td>0</td>\n",
              "      <td>🚀 Propel Your Marketing ROI with Advanced Anal...</td>\n",
              "      <td>Hey [Recipient's Name],\\n\\nReady to see your m...</td>\n",
              "      <td>False</td>\n",
              "      <td>False</td>\n",
              "      <td>False</td>\n",
              "      <td>NaN</td>\n",
              "    </tr>\n",
              "    <tr>\n",
              "      <th>1</th>\n",
              "      <td>1</td>\n",
              "      <td>Data is Your Superpower 📊 Unlock Insights with Us</td>\n",
              "      <td>Hi [Recipient's Name],\\n\\nI'm reaching out aga...</td>\n",
              "      <td>True</td>\n",
              "      <td>False</td>\n",
              "      <td>False</td>\n",
              "      <td>NaN</td>\n",
              "    </tr>\n",
              "    <tr>\n",
              "      <th>2</th>\n",
              "      <td>2</td>\n",
              "      <td>Turn Marketing Data Into Decisions 🧐 Let's Exp...</td>\n",
              "      <td>Greetings [Recipient's Name],\\n\\nWe haven't co...</td>\n",
              "      <td>False</td>\n",
              "      <td>False</td>\n",
              "      <td>False</td>\n",
              "      <td>NaN</td>\n",
              "    </tr>\n",
              "    <tr>\n",
              "      <th>3</th>\n",
              "      <td>3</td>\n",
              "      <td>Marketing Success is a Click Away - Let's Chat...</td>\n",
              "      <td>Hello [Recipient's Name],\\n\\nIt's clear that y...</td>\n",
              "      <td>True</td>\n",
              "      <td>True</td>\n",
              "      <td>False</td>\n",
              "      <td>NaN</td>\n",
              "    </tr>\n",
              "    <tr>\n",
              "      <th>4</th>\n",
              "      <td>4</td>\n",
              "      <td>🚀 Boost Your Brand's Visibility with Proven Ma...</td>\n",
              "      <td>Hi [Recipient's Name],\\n\\nIn the digital age, ...</td>\n",
              "      <td>False</td>\n",
              "      <td>False</td>\n",
              "      <td>False</td>\n",
              "      <td>NaN</td>\n",
              "    </tr>\n",
              "    <tr>\n",
              "      <th>...</th>\n",
              "      <td>...</td>\n",
              "      <td>...</td>\n",
              "      <td>...</td>\n",
              "      <td>...</td>\n",
              "      <td>...</td>\n",
              "      <td>...</td>\n",
              "      <td>...</td>\n",
              "    </tr>\n",
              "    <tr>\n",
              "      <th>76</th>\n",
              "      <td>76</td>\n",
              "      <td>Can We Help Enhance Your Marketing Strategy?</td>\n",
              "      <td>Hi [Recipient's Name],\\n\\nI'll keep this brief...</td>\n",
              "      <td>True</td>\n",
              "      <td>True</td>\n",
              "      <td>False</td>\n",
              "      <td>NaN</td>\n",
              "    </tr>\n",
              "    <tr>\n",
              "      <th>77</th>\n",
              "      <td>77</td>\n",
              "      <td>Boost Your Brand Visibility 🚀</td>\n",
              "      <td>Hello [Recipient's Name],\\n\\nWant to skyrocket...</td>\n",
              "      <td>True</td>\n",
              "      <td>False</td>\n",
              "      <td>False</td>\n",
              "      <td>NaN</td>\n",
              "    </tr>\n",
              "    <tr>\n",
              "      <th>78</th>\n",
              "      <td>78</td>\n",
              "      <td>🔍 Outpace Competitors with Insightful Analytics</td>\n",
              "      <td>Hi [Recipient's Name],\\n\\nI noticed you're nav...</td>\n",
              "      <td>True</td>\n",
              "      <td>False</td>\n",
              "      <td>False</td>\n",
              "      <td>NaN</td>\n",
              "    </tr>\n",
              "    <tr>\n",
              "      <th>79</th>\n",
              "      <td>79</td>\n",
              "      <td>Tailored Analytics for You</td>\n",
              "      <td>Hey [Recipient's Name],\\n\\nYour brand deserves...</td>\n",
              "      <td>False</td>\n",
              "      <td>False</td>\n",
              "      <td>False</td>\n",
              "      <td>NaN</td>\n",
              "    </tr>\n",
              "    <tr>\n",
              "      <th>80</th>\n",
              "      <td>80</td>\n",
              "      <td>Let's Make Data-Driven Decisions Together</td>\n",
              "      <td>Dear [Recipient's Name],\\n\\nI can't help but n...</td>\n",
              "      <td>True</td>\n",
              "      <td>True</td>\n",
              "      <td>False</td>\n",
              "      <td>NaN</td>\n",
              "    </tr>\n",
              "  </tbody>\n",
              "</table>\n",
              "<p>81 rows × 7 columns</p>\n",
              "</div>\n",
              "    <div class=\"colab-df-buttons\">\n",
              "\n",
              "  <div class=\"colab-df-container\">\n",
              "    <button class=\"colab-df-convert\" onclick=\"convertToInteractive('df-122cb208-cbe5-4143-90e6-e81c0d22c87d')\"\n",
              "            title=\"Convert this dataframe to an interactive table.\"\n",
              "            style=\"display:none;\">\n",
              "\n",
              "  <svg xmlns=\"http://www.w3.org/2000/svg\" height=\"24px\" viewBox=\"0 -960 960 960\">\n",
              "    <path d=\"M120-120v-720h720v720H120Zm60-500h600v-160H180v160Zm220 220h160v-160H400v160Zm0 220h160v-160H400v160ZM180-400h160v-160H180v160Zm440 0h160v-160H620v160ZM180-180h160v-160H180v160Zm440 0h160v-160H620v160Z\"/>\n",
              "  </svg>\n",
              "    </button>\n",
              "\n",
              "  <style>\n",
              "    .colab-df-container {\n",
              "      display:flex;\n",
              "      gap: 12px;\n",
              "    }\n",
              "\n",
              "    .colab-df-convert {\n",
              "      background-color: #E8F0FE;\n",
              "      border: none;\n",
              "      border-radius: 50%;\n",
              "      cursor: pointer;\n",
              "      display: none;\n",
              "      fill: #1967D2;\n",
              "      height: 32px;\n",
              "      padding: 0 0 0 0;\n",
              "      width: 32px;\n",
              "    }\n",
              "\n",
              "    .colab-df-convert:hover {\n",
              "      background-color: #E2EBFA;\n",
              "      box-shadow: 0px 1px 2px rgba(60, 64, 67, 0.3), 0px 1px 3px 1px rgba(60, 64, 67, 0.15);\n",
              "      fill: #174EA6;\n",
              "    }\n",
              "\n",
              "    .colab-df-buttons div {\n",
              "      margin-bottom: 4px;\n",
              "    }\n",
              "\n",
              "    [theme=dark] .colab-df-convert {\n",
              "      background-color: #3B4455;\n",
              "      fill: #D2E3FC;\n",
              "    }\n",
              "\n",
              "    [theme=dark] .colab-df-convert:hover {\n",
              "      background-color: #434B5C;\n",
              "      box-shadow: 0px 1px 3px 1px rgba(0, 0, 0, 0.15);\n",
              "      filter: drop-shadow(0px 1px 2px rgba(0, 0, 0, 0.3));\n",
              "      fill: #FFFFFF;\n",
              "    }\n",
              "  </style>\n",
              "\n",
              "    <script>\n",
              "      const buttonEl =\n",
              "        document.querySelector('#df-122cb208-cbe5-4143-90e6-e81c0d22c87d button.colab-df-convert');\n",
              "      buttonEl.style.display =\n",
              "        google.colab.kernel.accessAllowed ? 'block' : 'none';\n",
              "\n",
              "      async function convertToInteractive(key) {\n",
              "        const element = document.querySelector('#df-122cb208-cbe5-4143-90e6-e81c0d22c87d');\n",
              "        const dataTable =\n",
              "          await google.colab.kernel.invokeFunction('convertToInteractive',\n",
              "                                                    [key], {});\n",
              "        if (!dataTable) return;\n",
              "\n",
              "        const docLinkHtml = 'Like what you see? Visit the ' +\n",
              "          '<a target=\"_blank\" href=https://colab.research.google.com/notebooks/data_table.ipynb>data table notebook</a>'\n",
              "          + ' to learn more about interactive tables.';\n",
              "        element.innerHTML = '';\n",
              "        dataTable['output_type'] = 'display_data';\n",
              "        await google.colab.output.renderOutput(dataTable, element);\n",
              "        const docLink = document.createElement('div');\n",
              "        docLink.innerHTML = docLinkHtml;\n",
              "        element.appendChild(docLink);\n",
              "      }\n",
              "    </script>\n",
              "  </div>\n",
              "\n",
              "\n",
              "<div id=\"df-523b3985-3eac-4d0c-9c2d-08a27c78ae5a\">\n",
              "  <button class=\"colab-df-quickchart\" onclick=\"quickchart('df-523b3985-3eac-4d0c-9c2d-08a27c78ae5a')\"\n",
              "            title=\"Suggest charts\"\n",
              "            style=\"display:none;\">\n",
              "\n",
              "<svg xmlns=\"http://www.w3.org/2000/svg\" height=\"24px\"viewBox=\"0 0 24 24\"\n",
              "     width=\"24px\">\n",
              "    <g>\n",
              "        <path d=\"M19 3H5c-1.1 0-2 .9-2 2v14c0 1.1.9 2 2 2h14c1.1 0 2-.9 2-2V5c0-1.1-.9-2-2-2zM9 17H7v-7h2v7zm4 0h-2V7h2v10zm4 0h-2v-4h2v4z\"/>\n",
              "    </g>\n",
              "</svg>\n",
              "  </button>\n",
              "\n",
              "<style>\n",
              "  .colab-df-quickchart {\n",
              "      --bg-color: #E8F0FE;\n",
              "      --fill-color: #1967D2;\n",
              "      --hover-bg-color: #E2EBFA;\n",
              "      --hover-fill-color: #174EA6;\n",
              "      --disabled-fill-color: #AAA;\n",
              "      --disabled-bg-color: #DDD;\n",
              "  }\n",
              "\n",
              "  [theme=dark] .colab-df-quickchart {\n",
              "      --bg-color: #3B4455;\n",
              "      --fill-color: #D2E3FC;\n",
              "      --hover-bg-color: #434B5C;\n",
              "      --hover-fill-color: #FFFFFF;\n",
              "      --disabled-bg-color: #3B4455;\n",
              "      --disabled-fill-color: #666;\n",
              "  }\n",
              "\n",
              "  .colab-df-quickchart {\n",
              "    background-color: var(--bg-color);\n",
              "    border: none;\n",
              "    border-radius: 50%;\n",
              "    cursor: pointer;\n",
              "    display: none;\n",
              "    fill: var(--fill-color);\n",
              "    height: 32px;\n",
              "    padding: 0;\n",
              "    width: 32px;\n",
              "  }\n",
              "\n",
              "  .colab-df-quickchart:hover {\n",
              "    background-color: var(--hover-bg-color);\n",
              "    box-shadow: 0 1px 2px rgba(60, 64, 67, 0.3), 0 1px 3px 1px rgba(60, 64, 67, 0.15);\n",
              "    fill: var(--button-hover-fill-color);\n",
              "  }\n",
              "\n",
              "  .colab-df-quickchart-complete:disabled,\n",
              "  .colab-df-quickchart-complete:disabled:hover {\n",
              "    background-color: var(--disabled-bg-color);\n",
              "    fill: var(--disabled-fill-color);\n",
              "    box-shadow: none;\n",
              "  }\n",
              "\n",
              "  .colab-df-spinner {\n",
              "    border: 2px solid var(--fill-color);\n",
              "    border-color: transparent;\n",
              "    border-bottom-color: var(--fill-color);\n",
              "    animation:\n",
              "      spin 1s steps(1) infinite;\n",
              "  }\n",
              "\n",
              "  @keyframes spin {\n",
              "    0% {\n",
              "      border-color: transparent;\n",
              "      border-bottom-color: var(--fill-color);\n",
              "      border-left-color: var(--fill-color);\n",
              "    }\n",
              "    20% {\n",
              "      border-color: transparent;\n",
              "      border-left-color: var(--fill-color);\n",
              "      border-top-color: var(--fill-color);\n",
              "    }\n",
              "    30% {\n",
              "      border-color: transparent;\n",
              "      border-left-color: var(--fill-color);\n",
              "      border-top-color: var(--fill-color);\n",
              "      border-right-color: var(--fill-color);\n",
              "    }\n",
              "    40% {\n",
              "      border-color: transparent;\n",
              "      border-right-color: var(--fill-color);\n",
              "      border-top-color: var(--fill-color);\n",
              "    }\n",
              "    60% {\n",
              "      border-color: transparent;\n",
              "      border-right-color: var(--fill-color);\n",
              "    }\n",
              "    80% {\n",
              "      border-color: transparent;\n",
              "      border-right-color: var(--fill-color);\n",
              "      border-bottom-color: var(--fill-color);\n",
              "    }\n",
              "    90% {\n",
              "      border-color: transparent;\n",
              "      border-bottom-color: var(--fill-color);\n",
              "    }\n",
              "  }\n",
              "</style>\n",
              "\n",
              "  <script>\n",
              "    async function quickchart(key) {\n",
              "      const quickchartButtonEl =\n",
              "        document.querySelector('#' + key + ' button');\n",
              "      quickchartButtonEl.disabled = true;  // To prevent multiple clicks.\n",
              "      quickchartButtonEl.classList.add('colab-df-spinner');\n",
              "      try {\n",
              "        const charts = await google.colab.kernel.invokeFunction(\n",
              "            'suggestCharts', [key], {});\n",
              "      } catch (error) {\n",
              "        console.error('Error during call to suggestCharts:', error);\n",
              "      }\n",
              "      quickchartButtonEl.classList.remove('colab-df-spinner');\n",
              "      quickchartButtonEl.classList.add('colab-df-quickchart-complete');\n",
              "    }\n",
              "    (() => {\n",
              "      let quickchartButtonEl =\n",
              "        document.querySelector('#df-523b3985-3eac-4d0c-9c2d-08a27c78ae5a button');\n",
              "      quickchartButtonEl.style.display =\n",
              "        google.colab.kernel.accessAllowed ? 'block' : 'none';\n",
              "    })();\n",
              "  </script>\n",
              "</div>\n",
              "\n",
              "  <div id=\"id_283f3c63-5f63-49b0-ba74-3f6063dc91c7\">\n",
              "    <style>\n",
              "      .colab-df-generate {\n",
              "        background-color: #E8F0FE;\n",
              "        border: none;\n",
              "        border-radius: 50%;\n",
              "        cursor: pointer;\n",
              "        display: none;\n",
              "        fill: #1967D2;\n",
              "        height: 32px;\n",
              "        padding: 0 0 0 0;\n",
              "        width: 32px;\n",
              "      }\n",
              "\n",
              "      .colab-df-generate:hover {\n",
              "        background-color: #E2EBFA;\n",
              "        box-shadow: 0px 1px 2px rgba(60, 64, 67, 0.3), 0px 1px 3px 1px rgba(60, 64, 67, 0.15);\n",
              "        fill: #174EA6;\n",
              "      }\n",
              "\n",
              "      [theme=dark] .colab-df-generate {\n",
              "        background-color: #3B4455;\n",
              "        fill: #D2E3FC;\n",
              "      }\n",
              "\n",
              "      [theme=dark] .colab-df-generate:hover {\n",
              "        background-color: #434B5C;\n",
              "        box-shadow: 0px 1px 3px 1px rgba(0, 0, 0, 0.15);\n",
              "        filter: drop-shadow(0px 1px 2px rgba(0, 0, 0, 0.3));\n",
              "        fill: #FFFFFF;\n",
              "      }\n",
              "    </style>\n",
              "    <button class=\"colab-df-generate\" onclick=\"generateWithVariable('df')\"\n",
              "            title=\"Generate code using this dataframe.\"\n",
              "            style=\"display:none;\">\n",
              "\n",
              "  <svg xmlns=\"http://www.w3.org/2000/svg\" height=\"24px\"viewBox=\"0 0 24 24\"\n",
              "       width=\"24px\">\n",
              "    <path d=\"M7,19H8.4L18.45,9,17,7.55,7,17.6ZM5,21V16.75L18.45,3.32a2,2,0,0,1,2.83,0l1.4,1.43a1.91,1.91,0,0,1,.58,1.4,1.91,1.91,0,0,1-.58,1.4L9.25,21ZM18.45,9,17,7.55Zm-12,3A5.31,5.31,0,0,0,4.9,8.1,5.31,5.31,0,0,0,1,6.5,5.31,5.31,0,0,0,4.9,4.9,5.31,5.31,0,0,0,6.5,1,5.31,5.31,0,0,0,8.1,4.9,5.31,5.31,0,0,0,12,6.5,5.46,5.46,0,0,0,6.5,12Z\"/>\n",
              "  </svg>\n",
              "    </button>\n",
              "    <script>\n",
              "      (() => {\n",
              "      const buttonEl =\n",
              "        document.querySelector('#id_283f3c63-5f63-49b0-ba74-3f6063dc91c7 button.colab-df-generate');\n",
              "      buttonEl.style.display =\n",
              "        google.colab.kernel.accessAllowed ? 'block' : 'none';\n",
              "\n",
              "      buttonEl.onclick = () => {\n",
              "        google.colab.notebook.generateWithVariable('df');\n",
              "      }\n",
              "      })();\n",
              "    </script>\n",
              "  </div>\n",
              "\n",
              "    </div>\n",
              "  </div>\n"
            ]
          },
          "metadata": {},
          "execution_count": 51
        }
      ]
    },
    {
      "cell_type": "code",
      "source": [
        "print(df.columns)"
      ],
      "metadata": {
        "colab": {
          "base_uri": "https://localhost:8080/"
        },
        "id": "XL-uJhhLl6W4",
        "outputId": "5cf4b02c-aa8c-46ff-bee7-7dc978857590"
      },
      "execution_count": 52,
      "outputs": [
        {
          "output_type": "stream",
          "name": "stdout",
          "text": [
            "Index(['Unnamed: 0', 'subject', 'body', 'opened', 'meeting link clicked',\n",
            "       'responded', 'meeting_link_clicked'],\n",
            "      dtype='object')\n"
          ]
        }
      ]
    },
    {
      "cell_type": "code",
      "source": [
        "# Load and preprocess data\n",
        "file_path = '/content/email_data.csv'\n",
        "df = load_and_preprocess_data(file_path)\n",
        "df['body_len'] = pd.to_numeric(df['body'], errors='coerce').fillna(0)\n",
        "df['subject_len'] = pd.to_numeric(df['subject'], errors='coerce').fillna(0)\n",
        "df['meeting link clicked'] = pd.to_numeric(df['meeting link clicked'], errors='coerce').fillna(0)\n",
        "df['opened'] = pd.to_numeric(df['opened'], errors='coerce').fillna(0)\n",
        "df['responded'] = pd.to_numeric(df['responded'], errors='coerce').fillna(0)\n",
        "# Define the target variable and feature columns\n",
        "target_column = ['meeting link clicked']\n",
        "feature_columns = ['subject_len', 'body_len', 'opened','responded']\n",
        "\n",
        "# Split features and target variable\n",
        "X, y = split_features_target(df, target_column, feature_columns)\n",
        "\n",
        "# Split the dataset into train and test sets\n",
        "X_train, X_test, y_train, y_test = split_train_test(X, y)"
      ],
      "metadata": {
        "id": "lSAhY2WVd3U0"
      },
      "execution_count": 73,
      "outputs": []
    },
    {
      "cell_type": "code",
      "source": [
        "df['body']"
      ],
      "metadata": {
        "colab": {
          "base_uri": "https://localhost:8080/"
        },
        "id": "ZV8Qs2BnrAEK",
        "outputId": "f69b54c8-97dd-48a8-b42d-e8f206474988"
      },
      "execution_count": 67,
      "outputs": [
        {
          "output_type": "execute_result",
          "data": {
            "text/plain": [
              "0     0.0\n",
              "1     0.0\n",
              "2     0.0\n",
              "3     0.0\n",
              "4     0.0\n",
              "     ... \n",
              "76    0.0\n",
              "77    0.0\n",
              "78    0.0\n",
              "79    0.0\n",
              "80    0.0\n",
              "Name: body, Length: 81, dtype: float64"
            ]
          },
          "metadata": {},
          "execution_count": 67
        }
      ]
    },
    {
      "cell_type": "code",
      "source": [
        "# Train the model\n",
        "\n",
        "trained_model1 = train_model1(X_train, y_train)\n",
        "\n",
        "# Evaluate the model\n",
        "accuracy, classification_rep, confusion_mat = evaluate_model(trained_model1, X_test, y_test)\n",
        "\n",
        "# Display evaluation metrics\n",
        "print(f\"Accuracy: {accuracy}\")\n",
        "print(\"Classification Report:\\n\", classification_rep)\n",
        "print(\"Confusion Matrix:\\n\", confusion_mat)"
      ],
      "metadata": {
        "id": "FYB-Dss2Rn00",
        "colab": {
          "base_uri": "https://localhost:8080/"
        },
        "outputId": "c60e9b9f-1a2a-457b-d3f1-a22c8f578799"
      },
      "execution_count": 74,
      "outputs": [
        {
          "output_type": "stream",
          "name": "stderr",
          "text": [
            "/usr/local/lib/python3.10/dist-packages/sklearn/base.py:1152: DataConversionWarning: A column-vector y was passed when a 1d array was expected. Please change the shape of y to (n_samples,), for example using ravel().\n",
            "  return fit_method(estimator, *args, **kwargs)\n"
          ]
        },
        {
          "output_type": "stream",
          "name": "stdout",
          "text": [
            "Accuracy: 0.9411764705882353\n",
            "Classification Report:\n",
            "               precision    recall  f1-score   support\n",
            "\n",
            "         0.0       1.00      0.94      0.97        17\n",
            "         1.0       0.00      0.00      0.00         0\n",
            "\n",
            "    accuracy                           0.94        17\n",
            "   macro avg       0.50      0.47      0.48        17\n",
            "weighted avg       1.00      0.94      0.97        17\n",
            "\n",
            "Confusion Matrix:\n",
            " [[16  1]\n",
            " [ 0  0]]\n"
          ]
        },
        {
          "output_type": "stream",
          "name": "stderr",
          "text": [
            "/usr/local/lib/python3.10/dist-packages/sklearn/metrics/_classification.py:1471: UndefinedMetricWarning: Recall and F-score are ill-defined and being set to 0.0 in labels with no true samples. Use `zero_division` parameter to control this behavior.\n",
            "  _warn_prf(average, modifier, msg_start, len(result))\n",
            "/usr/local/lib/python3.10/dist-packages/sklearn/metrics/_classification.py:1471: UndefinedMetricWarning: Recall and F-score are ill-defined and being set to 0.0 in labels with no true samples. Use `zero_division` parameter to control this behavior.\n",
            "  _warn_prf(average, modifier, msg_start, len(result))\n",
            "/usr/local/lib/python3.10/dist-packages/sklearn/metrics/_classification.py:1471: UndefinedMetricWarning: Recall and F-score are ill-defined and being set to 0.0 in labels with no true samples. Use `zero_division` parameter to control this behavior.\n",
            "  _warn_prf(average, modifier, msg_start, len(result))\n"
          ]
        }
      ]
    },
    {
      "cell_type": "markdown",
      "source": [
        "**Insights and Considerations:**\n",
        "\n",
        "\n",
        "*   The confusion matrix shows that the model correctly predicted 6 instances of 'not clicked' and 4 instances of 'clicked'. However, it misclassified 3 instances of 'not clicked' as 'clicked' and 4 instances of 'clicked' as 'not clicked'.\n",
        "*   The model shows reasonable performance but has room for improvement, particularly in balancing precision and recall for both classes.\n",
        "*   Fine-tuning hyperparameters, experimenting with different algorithms, or adjusting the decision threshold may enhance model performance.\n",
        "*   Consideration of additional features or feature engineering could also contribute to better predictive capabilities.\n",
        "\n",
        "\n",
        "\n",
        "\n",
        "\n",
        "\n"
      ],
      "metadata": {
        "id": "eeIqLnoISm8C"
      }
    },
    {
      "cell_type": "markdown",
      "source": [
        "Improving Model accuracy by adjusting the hyperparameters of the RandomForestClassifier and using a broader set of algorithms for comparison.\n",
        " We'll also include feature scaling for algorithms that benefit from it. Additionally, we'll address class imbalance by adjusting class weights.\n",
        "\n",
        "\n"
      ],
      "metadata": {
        "id": "v1iZHEzIR6vN"
      }
    },
    {
      "cell_type": "code",
      "source": [
        "# Function to create and train a machine learning model with adjustments to improve\n",
        "\n",
        "def train_model2(X_train, y_train, algorithm='random_forest'):\n",
        "    if algorithm == 'random_forest':\n",
        "        model = Pipeline([\n",
        "            ('scaler', StandardScaler()),\n",
        "            ('classifier', RandomForestClassifier(random_state=42, class_weight='balanced', n_jobs=-1))\n",
        "        ])\n",
        "    elif algorithm == 'svm':\n",
        "        model = Pipeline([\n",
        "            ('scaler', StandardScaler()),\n",
        "            ('classifier', SVC(kernel='linear', class_weight='balanced'))\n",
        "        ])\n",
        "    elif algorithm == 'logistic_regression':\n",
        "        model = Pipeline([\n",
        "            ('scaler', StandardScaler()),\n",
        "            ('classifier', LogisticRegression(class_weight='balanced'))\n",
        "        ])\n",
        "    else:\n",
        "        raise ValueError(\"Invalid algorithm. Choose 'random_forest', 'svm', or 'logistic_regression'.\")\n",
        "\n",
        "    model.fit(X_train, y_train)\n",
        "    return model"
      ],
      "metadata": {
        "id": "Js8db7zoNLEB"
      },
      "execution_count": 75,
      "outputs": []
    },
    {
      "cell_type": "code",
      "source": [
        "# Train the model (Random Forest as an example, you can try SVM or Logistic Regression)\n",
        "trained_model2 = train_model2(X_train, y_train, algorithm='random_forest')\n",
        "\n",
        "# Evaluate the model\n",
        "accuracy, classification_rep, confusion_mat = evaluate_model(trained_model2, X_test, y_test)\n",
        "\n",
        "# Display evaluation metrics\n",
        "print(f\"Accuracy: {accuracy}\")\n",
        "print(\"Classification Report:\\n\", classification_rep)"
      ],
      "metadata": {
        "id": "a5yjCGlUNtBs",
        "colab": {
          "base_uri": "https://localhost:8080/"
        },
        "outputId": "c747959c-1e63-49d9-a8c0-18b4d3e6ce69"
      },
      "execution_count": 76,
      "outputs": [
        {
          "output_type": "stream",
          "name": "stderr",
          "text": [
            "/usr/local/lib/python3.10/dist-packages/sklearn/base.py:1152: DataConversionWarning: A column-vector y was passed when a 1d array was expected. Please change the shape of y to (n_samples,), for example using ravel().\n",
            "  return fit_method(estimator, *args, **kwargs)\n"
          ]
        },
        {
          "output_type": "stream",
          "name": "stdout",
          "text": [
            "Accuracy: 0.9411764705882353\n",
            "Classification Report:\n",
            "               precision    recall  f1-score   support\n",
            "\n",
            "         0.0       1.00      0.94      0.97        17\n",
            "         1.0       0.00      0.00      0.00         0\n",
            "\n",
            "    accuracy                           0.94        17\n",
            "   macro avg       0.50      0.47      0.48        17\n",
            "weighted avg       1.00      0.94      0.97        17\n",
            "\n"
          ]
        },
        {
          "output_type": "stream",
          "name": "stderr",
          "text": [
            "/usr/local/lib/python3.10/dist-packages/sklearn/metrics/_classification.py:1471: UndefinedMetricWarning: Recall and F-score are ill-defined and being set to 0.0 in labels with no true samples. Use `zero_division` parameter to control this behavior.\n",
            "  _warn_prf(average, modifier, msg_start, len(result))\n",
            "/usr/local/lib/python3.10/dist-packages/sklearn/metrics/_classification.py:1471: UndefinedMetricWarning: Recall and F-score are ill-defined and being set to 0.0 in labels with no true samples. Use `zero_division` parameter to control this behavior.\n",
            "  _warn_prf(average, modifier, msg_start, len(result))\n",
            "/usr/local/lib/python3.10/dist-packages/sklearn/metrics/_classification.py:1471: UndefinedMetricWarning: Recall and F-score are ill-defined and being set to 0.0 in labels with no true samples. Use `zero_division` parameter to control this behavior.\n",
            "  _warn_prf(average, modifier, msg_start, len(result))\n"
          ]
        }
      ]
    },
    {
      "cell_type": "markdown",
      "source": [
        "**Insights and Considerations:**\n",
        "\n",
        "\n",
        "\n",
        "*   The model's accuracy has improved, particularly in identifying 'not clicked' instances.\n",
        "*   Precision for both classes has increased, indicating better correctness in predictions.\n",
        "*   The recall for 'clicked' instances remains a challenge, indicating potential areas for further improvement.\n"
      ],
      "metadata": {
        "id": "KFBn4DsOTeWC"
      }
    },
    {
      "cell_type": "markdown",
      "source": [
        "## 3. Conclusion <a name=\"#conclusion\"></a>"
      ],
      "metadata": {
        "id": "FsK1LhS_T-gl"
      }
    },
    {
      "cell_type": "markdown",
      "source": [
        "The machine learning model has shown improvement in predicting email engagement, with the overall accuracy reaching approximately 65%. The precision and recall metrics have also shown enhancements, particularly in correctly identifying 'not clicked' instances. However, there is room for further improvement, especially in increasing recall for 'clicked' instances.\n",
        "\n",
        "In the upcoming detailed analysis report, we will delve into the finer nuances of the model's performance and explore comprehensive strategies for further improvement."
      ],
      "metadata": {
        "id": "yMPo3nfHUkZg"
      }
    }
  ]
}